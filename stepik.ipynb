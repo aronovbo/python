{
 "cells": [
  {
   "cell_type": "code",
   "execution_count": 17,
   "id": "6ba5d3c2",
   "metadata": {},
   "outputs": [
    {
     "name": "stdout",
     "output_type": "stream",
     "text": [
      "3 222\n",
      "3\n"
     ]
    }
   ],
   "source": [
    "n,k = map(int,input().split())\n",
    "t = 240 - k\n",
    "i = 0\n",
    "\n",
    "x = 0\n",
    "if t >= 0 and  0 <= n <= 10:\n",
    "    while i <= n:\n",
    "        x = x + i * 5\n",
    "        i += 1\n",
    "    if x + k > 240:\n",
    "        print(i-1)\n",
    "    else:\n",
    "        print(i)\n",
    "else:\n",
    "    i = 0\n",
    "    print(i)"
   ]
  },
  {
   "cell_type": "code",
   "execution_count": 16,
   "id": "e0a7c72e",
   "metadata": {},
   "outputs": [
    {
     "name": "stdout",
     "output_type": "stream",
     "text": [
      "4 190\n",
      "4\n"
     ]
    }
   ],
   "source": [
    "n,k = map(int,input().split())\n",
    "i = 0\n",
    "tex = 0\n",
    "tall = 240-k\n",
    "while True:\n",
    "    tex += (i+1)*5\n",
    "    if tex > tall or i==n:\n",
    "        break\n",
    "    i+=1\n",
    "print(i)"
   ]
  },
  {
   "cell_type": "code",
   "execution_count": 27,
   "id": "cae88c9a",
   "metadata": {},
   "outputs": [
    {
     "name": "stdout",
     "output_type": "stream",
     "text": [
      "6560\n",
      "1 1 1\n",
      "3 2 4\n",
      "6 3 10\n",
      "10 4 20\n",
      "15 5 35\n",
      "21 6 56\n",
      "28 7 84\n",
      "36 8 120\n",
      "45 9 165\n",
      "55 10 220\n",
      "66 11 286\n",
      "78 12 364\n",
      "91 13 455\n",
      "105 14 560\n",
      "120 15 680\n",
      "136 16 816\n",
      "153 17 969\n",
      "171 18 1140\n",
      "190 19 1330\n",
      "210 20 1540\n",
      "231 21 1771\n",
      "253 22 2024\n",
      "276 23 2300\n",
      "300 24 2600\n",
      "325 25 2925\n",
      "351 26 3276\n",
      "378 27 3654\n",
      "406 28 4060\n",
      "435 29 4495\n",
      "465 30 4960\n",
      "496 31 5456\n",
      "528 32 5984\n",
      "561 33 6545\n",
      "595 34 7140\n",
      "33\n"
     ]
    }
   ],
   "source": [
    "# Ване на день рождения подарили n кубиков. Он с друзьями решил построить из них пирамиду. \n",
    "# Ваня хочет построить пирамиду следующим образом: \n",
    "#     на верхушке пирамиды должен находиться 1 кубик, на втором уровне — 1 + 2 = 3 кубика, \n",
    "#     на третьем — 1 + 2 + 3 = 6 кубиков, и так далее. Таким образом, \n",
    "#     на i-м уровне пирамиды должно располагаться 1 + 2 + ... + (i - 1) + i кубиков.\n",
    "\n",
    "# Ваня хочет узнать, пирамиду какой максимальной высоты он может создать с использованием имеющихся кубиков.\n",
    "\n",
    "# Входные данные\n",
    "# В первой строке записано целое число n (1 ≤ n ≤ 104) — количество кубиков, подаренных Ване.\n",
    "\n",
    "# Выходные данные\n",
    "# Выведите единственной строкой максимально возможную высоту пирамиды.\n",
    "    \n",
    "n = int(input()) # количество кубиков\n",
    "i = 0\n",
    "j = 0\n",
    "c = 0\n",
    "\n",
    "while i <= n:\n",
    "    \n",
    "    i = i + (j+1)\n",
    "    j += 1\n",
    "    c += i\n",
    "\n",
    "    print(i,j,c)\n",
    "    if c > n:\n",
    "        break\n",
    "print(j - 1)\n",
    "\n",
    "\n",
    "    "
   ]
  },
  {
   "cell_type": "code",
   "execution_count": 7,
   "id": "ef0fb5af",
   "metadata": {},
   "outputs": [
    {
     "name": "stdout",
     "output_type": "stream",
     "text": [
      "3 5\n",
      "2 8 8\n",
      "3 4 5 5 10\n",
      "2 3 4 5 5 8 8 10\n"
     ]
    }
   ],
   "source": [
    "a,b = map(int,input().split())\n",
    "c = list(map(int,input().split()))\n",
    "d = list(map(int,input().split()))\n",
    "r = c + d\n",
    "s = []\n",
    "\n",
    "while len(r) > 0:\n",
    "    x = min(r)\n",
    "    r.pop(r.index(min(r)))\n",
    "    s.append(x)\n",
    "print(*s)\n",
    "   \n"
   ]
  },
  {
   "cell_type": "code",
   "execution_count": null,
   "id": "bb2a936f",
   "metadata": {},
   "outputs": [],
   "source": [
    "# По случаю 100500-летия Берляндского государственного университета совсем скоро состоится бал! \n",
    "# Уже n юношей и m девушек во всю репетируют вальс, менуэт, полонез и кадриль.\n",
    "\n",
    "# Известно, что на бал будут приглашены несколько пар юноша-девушка, \n",
    "# причем уровень умений танцевать партнеров в каждой паре должен отличаться не более чем на единицу.\n",
    "\n",
    "# Для каждого юноши известен уровень его умения танцевать. \n",
    "# Аналогично, для каждой девушки известен уровень ее умения танцевать. \n",
    "\n",
    "# Напишите программу, которая определит наибольшее количество пар, которое можно образовать из n юношей и m девушек.\n",
    "\n",
    "# Входные данные\n",
    "# В первой строке записано целое число n (1 ≤ n ≤ 100) — количество юношей. \n",
    "# Вторая строка содержит последовательность a1, a2, ..., an (1 ≤ ai ≤ 100), где ai — умение танцевать i-го юноши.\n",
    "\n",
    "# Аналогично, третья строка содержит целое m (1 ≤ m ≤ 100) – количество девушек. \n",
    "# В четвертой строке содержится последовательность b1, b2, ..., bm (1 ≤ bj ≤ 100), где bj — умение танцевать j-й девушки.\n",
    "\n",
    "# Выходные данные\n",
    "# Выведите единственное число — искомое максимальное возможное количество пар."
   ]
  },
  {
   "cell_type": "code",
   "execution_count": null,
   "id": "0baacf7a",
   "metadata": {},
   "outputs": [],
   "source": [
    "a = int(input)\n",
    "b = int(input)\n",
    "\n",
    "al = list(map(int,input().split()))\n",
    "bl = list(map(int,input().split()))\n",
    "\n",
    "\n"
   ]
  },
  {
   "cell_type": "code",
   "execution_count": 57,
   "id": "3197a00c",
   "metadata": {},
   "outputs": [
    {
     "name": "stdout",
     "output_type": "stream",
     "text": [
      "5\n",
      "1 1 1 1 1\n",
      "3\n",
      "1 2 3\n",
      "1\n"
     ]
    }
   ],
   "source": [
    "a = int(input())\n",
    "al = list(map(int,input().split()))\n",
    "al = list(set(al))\n",
    "b = int(input())\n",
    "bl = list(map(int,input().split()))\n",
    "bl = list(set(bl))\n",
    "# print(al)\n",
    "# print(bl)\n",
    "x = 0\n",
    "for j in bl:\n",
    "    for i in al:\n",
    "        k = i - j\n",
    "        l = j - i\n",
    "        if k == 1 or k == 0 or k == 1 or k == 0:\n",
    "            x +=1\n",
    "#             print(k,l,x)\n",
    "\n",
    "print(x)       \n",
    "            \n",
    "    \n",
    "            \n",
    "\n",
    "      "
   ]
  },
  {
   "cell_type": "code",
   "execution_count": null,
   "id": "4e602497",
   "metadata": {},
   "outputs": [],
   "source": [
    "4\n",
    "1 4 6 2\n",
    "5\n",
    "5 1 5 7 9\n",
    "\n",
    "4\n",
    "1 6 9 15\n",
    "2\n",
    "5 8\n",
    "\n",
    "\n",
    "5\n",
    "1 1 1 1 1\n",
    "3\n",
    "1 2 3"
   ]
  },
  {
   "cell_type": "code",
   "execution_count": 20,
   "id": "41ecb0c7",
   "metadata": {},
   "outputs": [
    {
     "ename": "TypeError",
     "evalue": "list.count() takes exactly one argument (0 given)",
     "output_type": "error",
     "traceback": [
      "\u001b[1;31m---------------------------------------------------------------------------\u001b[0m",
      "\u001b[1;31mTypeError\u001b[0m                                 Traceback (most recent call last)",
      "\u001b[1;32m~\\AppData\\Local\\Temp\\ipykernel_14768\\1413290312.py\u001b[0m in \u001b[0;36m<module>\u001b[1;34m\u001b[0m\n\u001b[0;32m      1\u001b[0m \u001b[0ma\u001b[0m \u001b[1;33m=\u001b[0m \u001b[1;33m[\u001b[0m\u001b[1;36m1\u001b[0m\u001b[1;33m,\u001b[0m\u001b[1;36m2\u001b[0m\u001b[1;33m,\u001b[0m\u001b[1;36m3\u001b[0m\u001b[1;33m,\u001b[0m\u001b[1;36m4\u001b[0m\u001b[1;33m,\u001b[0m\u001b[1;36m2\u001b[0m\u001b[1;33m,\u001b[0m\u001b[1;36m5\u001b[0m\u001b[1;33m]\u001b[0m\u001b[1;33m\u001b[0m\u001b[1;33m\u001b[0m\u001b[0m\n\u001b[1;32m----> 2\u001b[1;33m \u001b[0ma\u001b[0m\u001b[1;33m.\u001b[0m\u001b[0mcount\u001b[0m\u001b[1;33m(\u001b[0m\u001b[1;33m)\u001b[0m\u001b[1;33m\u001b[0m\u001b[1;33m\u001b[0m\u001b[0m\n\u001b[0m",
      "\u001b[1;31mTypeError\u001b[0m: list.count() takes exactly one argument (0 given)"
     ]
    }
   ],
   "source": [
    "a = [1,2,3,4,2,5]\n",
    "a.count()"
   ]
  },
  {
   "cell_type": "code",
   "execution_count": null,
   "id": "f908c8e2",
   "metadata": {},
   "outputs": [],
   "source": []
  }
 ],
 "metadata": {
  "kernelspec": {
   "display_name": "Python 3 (ipykernel)",
   "language": "python",
   "name": "python3"
  },
  "language_info": {
   "codemirror_mode": {
    "name": "ipython",
    "version": 3
   },
   "file_extension": ".py",
   "mimetype": "text/x-python",
   "name": "python",
   "nbconvert_exporter": "python",
   "pygments_lexer": "ipython3",
   "version": "3.9.13"
  }
 },
 "nbformat": 4,
 "nbformat_minor": 5
}
